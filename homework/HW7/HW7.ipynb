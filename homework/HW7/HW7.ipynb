{
 "cells": [
  {
   "cell_type": "markdown",
   "metadata": {},
   "source": [
    "### 7.1"
   ]
  },
  {
   "cell_type": "code",
   "execution_count": null,
   "metadata": {},
   "outputs": [],
   "source": [
    "import pandas as pd\n",
    "import numpy as np\n",
    "ramen = pd.read_csv('ramen-ratings.csv', na_values = {'Stars': ['Unrated']})\n",
    "ramen.drop('Review #', axis = 1, inplace = True)\n",
    "ramen.loc[ramen.Country == 'United States', 'Country'] = 'USA'"
   ]
  },
  {
   "cell_type": "code",
   "execution_count": null,
   "metadata": {},
   "outputs": [],
   "source": [
    "ramen[ramen['Stars'].isnull()]"
   ]
  },
  {
   "cell_type": "code",
   "execution_count": 2,
   "metadata": {},
   "outputs": [],
   "source": [
    "import pandas as pd\n",
    "import numpy as np\n",
    "ramen = pd.read_csv('ramen-ratings.csv', na_values = {'Stars': ['Unrated']})"
   ]
  },
  {
   "cell_type": "code",
   "execution_count": 3,
   "metadata": {},
   "outputs": [
    {
     "data": {
      "text/html": [
       "<div>\n",
       "<style scoped>\n",
       "    .dataframe tbody tr th:only-of-type {\n",
       "        vertical-align: middle;\n",
       "    }\n",
       "\n",
       "    .dataframe tbody tr th {\n",
       "        vertical-align: top;\n",
       "    }\n",
       "\n",
       "    .dataframe thead th {\n",
       "        text-align: right;\n",
       "    }\n",
       "</style>\n",
       "<table border=\"1\" class=\"dataframe\">\n",
       "  <thead>\n",
       "    <tr style=\"text-align: right;\">\n",
       "      <th></th>\n",
       "      <th>Review #</th>\n",
       "      <th>Brand</th>\n",
       "      <th>Variety</th>\n",
       "      <th>Style</th>\n",
       "      <th>Country</th>\n",
       "      <th>Stars</th>\n",
       "      <th>Top Ten</th>\n",
       "    </tr>\n",
       "  </thead>\n",
       "  <tbody>\n",
       "    <tr>\n",
       "      <th>32</th>\n",
       "      <td>2548</td>\n",
       "      <td>Ottogi</td>\n",
       "      <td>Plain Instant Noodle No Soup Included</td>\n",
       "      <td>Pack</td>\n",
       "      <td>South Korea</td>\n",
       "      <td>NaN</td>\n",
       "      <td>NaN</td>\n",
       "    </tr>\n",
       "    <tr>\n",
       "      <th>122</th>\n",
       "      <td>2458</td>\n",
       "      <td>Samyang Foods</td>\n",
       "      <td>Sari Ramen</td>\n",
       "      <td>Pack</td>\n",
       "      <td>South Korea</td>\n",
       "      <td>NaN</td>\n",
       "      <td>NaN</td>\n",
       "    </tr>\n",
       "    <tr>\n",
       "      <th>993</th>\n",
       "      <td>1587</td>\n",
       "      <td>Mi E-Zee</td>\n",
       "      <td>Plain Noodles</td>\n",
       "      <td>Pack</td>\n",
       "      <td>Malaysia</td>\n",
       "      <td>NaN</td>\n",
       "      <td>NaN</td>\n",
       "    </tr>\n",
       "  </tbody>\n",
       "</table>\n",
       "</div>"
      ],
      "text/plain": [
       "     Review #          Brand                                Variety Style  \\\n",
       "32       2548         Ottogi  Plain Instant Noodle No Soup Included  Pack   \n",
       "122      2458  Samyang Foods                             Sari Ramen  Pack   \n",
       "993      1587       Mi E-Zee                          Plain Noodles  Pack   \n",
       "\n",
       "         Country  Stars Top Ten  \n",
       "32   South Korea    NaN     NaN  \n",
       "122  South Korea    NaN     NaN  \n",
       "993     Malaysia    NaN     NaN  "
      ]
     },
     "execution_count": 3,
     "metadata": {},
     "output_type": "execute_result"
    }
   ],
   "source": [
    "ramen[ramen.Stars.isnull()]"
   ]
  },
  {
   "cell_type": "markdown",
   "metadata": {},
   "source": [
    "### 7.3"
   ]
  },
  {
   "cell_type": "code",
   "execution_count": null,
   "metadata": {},
   "outputs": [],
   "source": [
    "import pandas as pd\n",
    "ramen = pd.read_csv('ramen-ratings.csv', na_values = {'Stars': ['Unrated']})\n",
    "ramen.drop('Review #', axis = 1, inplace = True)\n",
    "ramen.loc[ramen.Country == 'United States', 'Country'] = 'USA'\n",
    "\n",
    "sf_southkorea = (ramen.Brand == 'Samyang Foods') & (ramen.Country == 'South Korea')\n",
    "o_southkorea = (ramen.Brand == 'Ottogi') & (ramen.Country == 'South Korea')\n",
    "m_Malaysia = (ramen.Brand == 'Mi E-Zee') & (ramen.Country == 'Malaysia')\n",
    "\n",
    "star_sf_southkorea = ramen.loc[sf_southkorea, 'Stars'].mean() \n",
    "star_o_southkorea = ramen.loc[o_southkorea, 'Stars'].mean() \n",
    "star_m_Malaysia = ramen.loc[m_Malaysia, 'Stars'].mean() \n",
    "\n",
    "\n",
    "ramen.loc[sf_southkorea & (ramen.Stars.isnull()), 'Stars'] = star_sf_southkorea\n",
    "ramen.loc[o_southkorea & (ramen.Stars.isnull()), 'Stars'] = star_o_southkorea\n",
    "ramen.loc[m_Malaysia & (ramen.Stars.isnull()), 'Stars'] = star_m_Malaysia\n",
    "ramen.loc[[122,32,993]]"
   ]
  },
  {
   "cell_type": "code",
   "execution_count": null,
   "metadata": {},
   "outputs": [],
   "source": [
    "import pandas as pd\n",
    "ramen = pd.read_csv('ramen-ratings.csv', na_values = {'Stars': ['Unrated']})\n",
    "ramen.drop('Review #', axis = 1, inplace = True)\n",
    "ramen.loc[ramen.Country == 'United States', 'Country'] = 'USA'\n",
    "brand = ramen.loc[ramen.Stars.isnull(), 'Brand'].tolist()\n",
    "country = ramen.loc[ramen.Stars.isnull(), 'Country'].tolist()\n",
    "\n",
    "def get_mean(df, brand, country):\n",
    "    mean = []\n",
    "    for i in range(len(brand)):\n",
    "        val = df.loc[(ramen.Brand == brand[i]) & (df.Country == country[i]), 'Stars'].mean()\n",
    "        mean.append(val)\n",
    "    return mean\n",
    "get_mean(ramen, brand, country)\n",
    "\n",
    "ramen.loc[ramen.Stars.isnull(), 'Stars'] = get_mean(ramen, brand, country)\n",
    "ramen.loc[[122,32,993]]"
   ]
  },
  {
   "cell_type": "code",
   "execution_count": null,
   "metadata": {},
   "outputs": [],
   "source": [
    "import pandas as pd\n",
    "ramen=pd.read_csv('ramen-ratings.csv',na_values=('Unrated'))\n",
    "ramen.drop('Review #', axis = 1, inplace = True)\n",
    "ramen.loc[ramen.Country == 'United States', 'Country'] = 'USA'\n",
    "avg1=ramen.loc[(ramen['Country'] == 'South Korea') & (ramen['Brand'] == 'Ottogi')]['Stars'].mean()\n",
    "ramen.iloc[32,5]=avg1\n",
    "avg2=ramen.loc[(ramen['Country'] == 'South Korea') & (ramen['Brand'] == 'Samyang Foods')]['Stars'].mean()\n",
    "ramen.iloc[122,5]=avg2\n",
    "avg3=ramen.loc[(ramen['Country'] == 'Malaysia') & (ramen['Brand'] == 'Mi E-Zee')]['Stars'].mean()\n",
    "ramen.iloc[993,5]=avg3\n",
    "# write your code here\n",
    "ramen.loc[[122,32,993]]"
   ]
  },
  {
   "cell_type": "markdown",
   "metadata": {},
   "source": [
    "### 7.2"
   ]
  },
  {
   "cell_type": "code",
   "execution_count": null,
   "metadata": {},
   "outputs": [],
   "source": [
    "import pandas as pd\n",
    "import numpy as np\n",
    "name = ['age', 'sex', 'cp', 'trestbps', 'chol', 'fbs', 'restecg', \n",
    "         'thalach', 'exang', 'oldpeak', 'slope', 'ca', 'thal', 'num']\n",
    "\n",
    "cleveland = pd.read_csv('processed.cleveland.data', na_values = '?', names = name)\n",
    "cleveland[cleveland.ca.isnull()]\n",
    "cleveland"
   ]
  },
  {
   "cell_type": "markdown",
   "metadata": {},
   "source": [
    "### 7.5"
   ]
  },
  {
   "cell_type": "code",
   "execution_count": null,
   "metadata": {},
   "outputs": [],
   "source": [
    "import pandas as pd\n",
    "import numpy as np\n",
    "name = ['age', 'sex', 'cp', 'trestbps', 'chol', 'fbs', 'restecg', \n",
    "         'thalach', 'exang', 'oldpeak', 'slope', 'ca', 'thal', 'num']\n",
    "\n",
    "cleveland = pd.read_csv('processed.cleveland.data', na_values = '?', names = name)\n",
    "\n",
    "ca_sex = cleveland.loc[cleveland.ca.isnull(), 'sex'].tolist()\n",
    "ca_num = cleveland.loc[cleveland.ca.isnull(), 'num'].tolist()\n",
    "\n",
    "thal_sex = cleveland.loc[cleveland.thal.isnull(), 'sex'].tolist()\n",
    "thal_num = cleveland.loc[cleveland.thal.isnull(), 'num'].tolist()\n",
    "\n",
    "def get_mode(df, sex, num, missing_col):\n",
    "    mode = []\n",
    "    for i in range(len(sex)):\n",
    "        val = df.loc[(df.sex == sex[i]) & (df.num == num[i]), missing_col].mode()\n",
    "        mode.append(val)\n",
    "    return mode\n",
    "\n",
    "cleveland.loc[cleveland.ca.isnull(), 'ca'] = get_mode(cleveland, ca_sex, ca_num, 'ca')\n",
    "#cleveland.loc[cleveland.thal.isnull(), 'thal'] = get_mode(cleveland, thal_sex, thal_num,'thal')"
   ]
  },
  {
   "cell_type": "code",
   "execution_count": null,
   "metadata": {},
   "outputs": [],
   "source": [
    "import pandas as pd\n",
    "import numpy as np\n",
    "name = ['age', 'sex', 'cp', 'trestbps', 'chol', 'fbs', 'restecg', \n",
    "         'thalach', 'exang', 'oldpeak', 'slope', 'ca', 'thal', 'num']\n",
    "\n",
    "cleveland1 = pd.read_csv('processed.cleveland.data', na_values = '?', names = name)\n",
    "cleveland1[cleveland1.ca.isnull()]\n",
    "cleveland1.head()\n",
    "\n",
    "cleveland1[\"ca\"]=cleveland1[\"ca\"].fillna(0)\n",
    "\n",
    "cleveland1.loc[87] = cleveland1.loc[87].fillna(value=3)\n",
    "cleveland1.loc[266] = cleveland1.loc[266].fillna(value=7)\n",
    "cleveland1.dtypes"
   ]
  },
  {
   "cell_type": "markdown",
   "metadata": {},
   "source": [
    "### 7.6"
   ]
  },
  {
   "cell_type": "code",
   "execution_count": null,
   "metadata": {},
   "outputs": [],
   "source": [
    "import pandas as pd\n",
    "import numpy as np\n",
    "name = ['age', 'sex', 'cp', 'trestbps', 'chol', 'fbs', 'restecg', \n",
    "         'thalach', 'exang', 'oldpeak', 'slope', 'ca', 'thal', 'num']\n",
    "\n",
    "cleveland = pd.read_csv('processed.cleveland.data', na_values = '?', names = name)\n",
    "\n",
    "d = {1.0: 'typical angina', 2.0: 'atypical angina', 3.0: 'non-anginal pain', 4.0: 'asymptomatic'}\n",
    "cleveland.cp = cleveland.cp.map(d)\n",
    "\n",
    "counts = cleveland.cp.value_counts()"
   ]
  },
  {
   "cell_type": "code",
   "execution_count": null,
   "metadata": {},
   "outputs": [],
   "source": [
    "counts"
   ]
  },
  {
   "cell_type": "code",
   "execution_count": null,
   "metadata": {},
   "outputs": [],
   "source": [
    "import pandas as pd\n",
    "import numpy as np\n",
    "name = ['age', 'sex', 'cp', 'trestbps', 'chol', 'fbs', 'restecg', \n",
    "         'thalach', 'exang', 'oldpeak', 'slope', 'ca', 'thal', 'num']\n",
    "\n",
    "cleveland = pd.read_csv('processed.cleveland.data', na_values = '?', names = name)\n",
    "cpmap = {\n",
    "    1.0:'typical angina', \n",
    "    2.0:'atypical angina', \n",
    "    3.0:'non-anginal pain',\n",
    "    4.0:'asymptomatic'\n",
    "}\n",
    "cleveland['cp'] = cleveland['cp'].map(cpmap)\n",
    "cleveland.cp.value_counts()"
   ]
  },
  {
   "cell_type": "markdown",
   "metadata": {},
   "source": [
    "### 7.7"
   ]
  },
  {
   "cell_type": "code",
   "execution_count": null,
   "metadata": {},
   "outputs": [],
   "source": [
    "import pandas as pd\n",
    "import numpy as np\n",
    "name = ['age', 'sex', 'cp', 'trestbps', 'chol', 'fbs', 'restecg', \n",
    "         'thalach', 'exang', 'oldpeak', 'slope', 'ca', 'thal', 'num']\n",
    "\n",
    "cleveland = pd.read_csv('processed.cleveland.data', na_values = '?', names = name)\n",
    "\n",
    "def modify(row):\n",
    "    val = 'low'\n",
    "    if row.slope == 1.0 and row.thalach >= 160:\n",
    "            val = 'high'\n",
    "  \n",
    "    if row.slope == 2.0 and row.thalach >= 140:\n",
    "            val = 'high'\n",
    "            \n",
    "    if row.slope == 3.0 and row.thalach >= 145:\n",
    "            val = 'high'\n",
    "            \n",
    "    return val\n",
    "    \n",
    "cleveland['thalach_level'] = cleveland.apply(modify, axis = 1)\n",
    "cleveland['thalach_level']"
   ]
  },
  {
   "cell_type": "markdown",
   "metadata": {},
   "source": [
    "### 7.8"
   ]
  },
  {
   "cell_type": "code",
   "execution_count": null,
   "metadata": {},
   "outputs": [],
   "source": [
    "import pandas as pd\n",
    "import numpy as np\n",
    "\n",
    "files = ['processed.cleveland.data', 'processed.hungarian.data', \n",
    "        'processed.switzerland.data', 'processed.va.data']\n",
    "\n",
    "def import_data(file):\n",
    "    name = ['age', 'sex', 'cp', 'trestbps', 'chol', 'fbs', 'restecg', \n",
    "         'thalach', 'exang', 'oldpeak', 'slope', 'ca', 'thal', 'num']\n",
    "\n",
    "    df = pd.read_csv(file, na_values = '?', names = name)\n",
    "    return df\n",
    "\n",
    "cleveland, hungarian = import_data(files[0]), import_data(files[1])\n",
    "switzerland, va = import_data(files[2]), import_data(files[3])\n",
    "\n",
    "heart_disease = pd.concat([cleveland, hungarian, switzerland, va], ignore_index = True)"
   ]
  },
  {
   "cell_type": "markdown",
   "metadata": {},
   "source": [
    "### 7.9"
   ]
  },
  {
   "cell_type": "code",
   "execution_count": null,
   "metadata": {},
   "outputs": [],
   "source": [
    "import pandas as pd\n",
    "ramen = pd.read_csv('ramen-ratings.csv', na_values = {'Stars': ['Unrated']})\n",
    "ramen.drop('Review #', axis = 1, inplace = True)\n",
    "ramen.loc[ramen.Country == 'United States', 'Country'] = 'USA'\n",
    "ramen.columns = ['brand', 'name', 'packaging', 'from', 'Stars', 'Top Ten']\n",
    "d = {'United States': 'US', 'USA': 'US', 'South Korea': 'Korea'}\n",
    "ramen['from'].replace(d, inplace=True)\n",
    "\n",
    "green = pd.read_csv('green-int-ramen.csv')\n",
    "\n",
    "green_ramen = pd.merge(green, ramen)\n",
    "\n",
    "ramen = pd.read_csv('ramen-ratings.csv')\n",
    "\n",
    "green_ramen"
   ]
  },
  {
   "cell_type": "code",
   "execution_count": null,
   "metadata": {},
   "outputs": [],
   "source": [
    "green_ramen"
   ]
  },
  {
   "cell_type": "markdown",
   "metadata": {},
   "source": [
    "### 7.10"
   ]
  },
  {
   "cell_type": "code",
   "execution_count": null,
   "metadata": {},
   "outputs": [],
   "source": [
    "import pandas as pd\n",
    "import numpy as np\n",
    "name = ['age', 'sex', 'cp', 'trestbps', 'chol', 'fbs', 'restecg', \n",
    "         'thalach', 'exang', 'oldpeak', 'slope', 'ca', 'thal', 'num']\n",
    "\n",
    "cleveland = pd.read_csv('processed.cleveland.data', na_values = '?', names = name)\n",
    "d = {0.0: 0, 1.0: 1, 2.0: 1, 3.0: 1, 4.0: 1}\n",
    "cleveland.num.replace(d, inplace=True)\n",
    "\n",
    "prob = cleveland.groupby(by=['sex', 'cp'])['num'].mean()\n",
    "percent = np.reshape((prob).to_list(), (2,4))\n",
    "sex_cp_percent = pd.DataFrame(percent, index = [0,1], columns = [1, 2, 3, 4])\n",
    "\n",
    "sex_cp_percent"
   ]
  },
  {
   "cell_type": "code",
   "execution_count": null,
   "metadata": {},
   "outputs": [],
   "source": [
    "male_cp = cleveland.loc[cleveland[\"sex\"] == 1, :]\n",
    "\n",
    "male_cp_1 = male_cp.loc[male_cp[\"cp\"] == 1, :]\n",
    "male_cp_1_h = male_cp_1.loc[male_cp_1[\"num\"] == 1, :]\n",
    "male_percent_1 = len(male_cp_1_h) / len(male_cp_1)\n",
    "male_percent_1==sex_cp_percent.iloc[1,0]"
   ]
  },
  {
   "cell_type": "markdown",
   "metadata": {},
   "source": [
    "### 7.11"
   ]
  },
  {
   "cell_type": "code",
   "execution_count": null,
   "metadata": {},
   "outputs": [],
   "source": [
    "import pandas as pd\n",
    "import numpy as np\n",
    "name = ['age', 'sex', 'cp', 'trestbps', 'chol', 'fbs', 'restecg', \n",
    "         'thalach', 'exang', 'oldpeak', 'slope', 'ca', 'thal', 'num']\n",
    "cleveland = pd.read_csv('processed.cleveland.data', na_values = '?', names = name)\n",
    "\n",
    "cut = pd.qcut(cleveland.trestbps, q = 4)\n",
    "sex_bps_num = cleveland.groupby(by=['sex', cut])['num'].value_counts()\n",
    "\n",
    "num_4 = sex_bps_num[[x[2] == 4 for x in sex_bps_num.index]]\n"
   ]
  },
  {
   "cell_type": "code",
   "execution_count": null,
   "metadata": {},
   "outputs": [],
   "source": [
    "cleveland.groupby(by=['sex', cut])['num'].value_counts()"
   ]
  },
  {
   "cell_type": "code",
   "execution_count": null,
   "metadata": {},
   "outputs": [],
   "source": [
    "sex_bps_num[[x[2] == 4 for x in sex_bps_num.index]]"
   ]
  },
  {
   "cell_type": "code",
   "execution_count": null,
   "metadata": {},
   "outputs": [],
   "source": [
    "pd.qcut(cleveland.trestbps, 4, retbins=True, labels=False)"
   ]
  },
  {
   "cell_type": "code",
   "execution_count": null,
   "metadata": {},
   "outputs": [],
   "source": [
    "for x in sex_bps_num.index:\n",
    "    print(x)"
   ]
  },
  {
   "cell_type": "code",
   "execution_count": null,
   "metadata": {},
   "outputs": [],
   "source": []
  }
 ],
 "metadata": {
  "kernelspec": {
   "display_name": "Python 3",
   "language": "python",
   "name": "python3"
  },
  "language_info": {
   "codemirror_mode": {
    "name": "ipython",
    "version": 3
   },
   "file_extension": ".py",
   "mimetype": "text/x-python",
   "name": "python",
   "nbconvert_exporter": "python",
   "pygments_lexer": "ipython3",
   "version": "3.6.8"
  }
 },
 "nbformat": 4,
 "nbformat_minor": 2
}
