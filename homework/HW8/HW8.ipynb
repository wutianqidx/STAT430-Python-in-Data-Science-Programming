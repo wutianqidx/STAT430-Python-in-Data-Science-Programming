{
 "cells": [
  {
   "cell_type": "markdown",
   "metadata": {},
   "source": [
    "## 8.1"
   ]
  },
  {
   "cell_type": "code",
   "execution_count": null,
   "metadata": {},
   "outputs": [],
   "source": [
    "import pandas as pd\n",
    "ramen = pd.read_csv('ramen-ratings.csv', na_values = {'Stars': ['Unrated']})\n",
    "ramen.drop('Review #', axis = 1, inplace = True)\n",
    "ramen.loc[ramen.Country == 'United States', 'Country'] = 'USA'\n",
    "\n",
    "median_ratings = ramen.groupby(by = ['Brand', 'Style']).median()"
   ]
  },
  {
   "cell_type": "code",
   "execution_count": null,
   "metadata": {},
   "outputs": [],
   "source": [
    "ramen.head()"
   ]
  },
  {
   "cell_type": "markdown",
   "metadata": {},
   "source": [
    "## 8.2\n"
   ]
  },
  {
   "cell_type": "code",
   "execution_count": null,
   "metadata": {},
   "outputs": [],
   "source": [
    "import pandas as pd\n",
    "import numpy as np\n",
    "name = ['age', 'sex', 'cp', 'trestbps', 'chol', 'fbs', 'restecg', \n",
    "         'thalach', 'exang', 'oldpeak', 'slope', 'ca', 'thal', 'num']\n",
    "\n",
    "cleveland = pd.read_csv('processed.cleveland.data', na_values = '?', names = name)\n",
    "\n",
    "cleveland.loc[cleveland.num != 0, 'num'] = 1\n",
    "bins = [0, 40, 50, 60, 70, 100]\n",
    "cut = pd.cut(cleveland.age, bins)\n",
    "groups = cleveland.groupby(by = [cut, 'sex', 'restecg'])\n",
    "\n",
    "def proportion(array):\n",
    "    return sum(array == 1) / len(array)\n",
    "\n",
    "names = ['age_group', ]\n",
    "disease_percent = groups['num'].agg([('n', 'count'), ('disease_pct', proportion)]).reset_index()\n",
    "disease_percent = disease_percent.rename(columns = {'age': 'age_group'})\n"
   ]
  },
  {
   "cell_type": "code",
   "execution_count": null,
   "metadata": {},
   "outputs": [],
   "source": [
    "cleveland.head()"
   ]
  },
  {
   "cell_type": "code",
   "execution_count": null,
   "metadata": {},
   "outputs": [],
   "source": [
    "cleveland.loc[cleveland.num != 0, 'num'] = 1\n",
    "bins = [0, 40, 50, 60, 70, 100]\n",
    "cut = pd.cut(cleveland.age, bins)\n",
    "groups = cleveland.groupby(by = [cut, 'sex', 'restecg'])\n",
    "\n",
    "def proportion(array):\n",
    "    return sum(array == 1) / len(array)\n",
    "\n",
    "names = ['age_group', ]\n",
    "disease_percent = groups['num'].agg([('n', 'count'), ('disease_pct', proportion)]).reset_index()\n",
    "disease_percent = disease_percent.rename(columns = {'age': 'age_group'})"
   ]
  },
  {
   "cell_type": "markdown",
   "metadata": {},
   "source": [
    "## 8.3\n"
   ]
  },
  {
   "cell_type": "code",
   "execution_count": 34,
   "metadata": {},
   "outputs": [],
   "source": [
    "import re\n",
    "import pandas as pd\n",
    "import numpy as np\n",
    "phone_numbers = pd.read_csv('phone-numbers.csv')\n",
    "pattern = '^[\\s(]*(\\d{3})[-)\\s]*(\\d{3})[-\\s]*(\\d{4})\\s*$'\n",
    "combined = phone_numbers.phone.str.extract(pattern).astype(str)\n",
    "phone_numbers['phone'] = combined[[0,1,2]].agg('-'.join, axis = 1)\n",
    "phone_numbers.replace('nan-nan-nan', np.nan, inplace = True)\n"
   ]
  },
  {
   "cell_type": "code",
   "execution_count": 32,
   "metadata": {},
   "outputs": [],
   "source": [
    "pattern = r'[\\s(]*\\d{3}[\\s)-]*\\d{3}[\\s-]*\\d{4}[\\s]*$'\n",
    "match = phone_numbers['phone'].str.match(pattern)\n",
    "phone_numbers.loc[match == False, 'phone'] = np.nan\n",
    "\n",
    "def reformat(row):\n",
    "    row = str(row)\n",
    "    res = ''\n",
    "    if row == 'nan':\n",
    "        return np.nan\n",
    "    \n",
    "    for c in row:\n",
    "        if c.isdigit():\n",
    "            res += c\n",
    "    res = res[:3] + '-' + res[3:6] + '-' + res[6:]\n",
    "    return res \n",
    "\n",
    "phone_numbers['phone'] = phone_numbers['phone'].apply(reformat)\n"
   ]
  },
  {
   "cell_type": "markdown",
   "metadata": {},
   "source": [
    "## 8.4\n"
   ]
  },
  {
   "cell_type": "code",
   "execution_count": 7,
   "metadata": {},
   "outputs": [
    {
     "data": {
      "text/html": [
       "<div>\n",
       "<style scoped>\n",
       "    .dataframe tbody tr th:only-of-type {\n",
       "        vertical-align: middle;\n",
       "    }\n",
       "\n",
       "    .dataframe tbody tr th {\n",
       "        vertical-align: top;\n",
       "    }\n",
       "\n",
       "    .dataframe thead th {\n",
       "        text-align: right;\n",
       "    }\n",
       "</style>\n",
       "<table border=\"1\" class=\"dataframe\">\n",
       "  <thead>\n",
       "    <tr style=\"text-align: right;\">\n",
       "      <th></th>\n",
       "      <th>text</th>\n",
       "    </tr>\n",
       "  </thead>\n",
       "  <tbody>\n",
       "    <tr>\n",
       "      <th>0</th>\n",
       "      <td>123 Main St., Apt 121, Champaign, IL 61820-4319</td>\n",
       "    </tr>\n",
       "    <tr>\n",
       "      <th>1</th>\n",
       "      <td>15 23rd St, Urbana, IL 60181</td>\n",
       "    </tr>\n",
       "    <tr>\n",
       "      <th>3</th>\n",
       "      <td>320 Vanderbilt Way, Santa Clara, CA 95050</td>\n",
       "    </tr>\n",
       "    <tr>\n",
       "      <th>4</th>\n",
       "      <td>109 S. Forest Rd., Columbus, OH 43210-2943</td>\n",
       "    </tr>\n",
       "  </tbody>\n",
       "</table>\n",
       "</div>"
      ],
      "text/plain": [
       "                                              text\n",
       "0  123 Main St., Apt 121, Champaign, IL 61820-4319\n",
       "1                     15 23rd St, Urbana, IL 60181\n",
       "3        320 Vanderbilt Way, Santa Clara, CA 95050\n",
       "4       109 S. Forest Rd., Columbus, OH 43210-2943"
      ]
     },
     "execution_count": 7,
     "metadata": {},
     "output_type": "execute_result"
    }
   ],
   "source": [
    "import pandas as pd \n",
    "address = pd.read_table('address.csv', names = ['text'], lineterminator = '\\\\')\n",
    "address['text'] = address['text'].str.replace('\\n', '+')\n",
    "pattern = r'\\+?[\\d]+.*[\\s,]+[a-zA-Z]{2}[,\\s]+\\d'\n",
    "match = address['text'].str.match(pattern)\n",
    "address = address.loc[match]\n",
    "\n",
    "def reformat(row):\n",
    "    row = str(row)\n",
    "    if row[0] == '+': row = row[1:]\n",
    "    row = row.replace(',', '').split('+')\n",
    "    city_state_zipcode = row[-1].split()\n",
    "    street, city, state, zipcode = row[0], ' '.join(city_state_zipcode[:-2]), city_state_zipcode[-2].upper(), city_state_zipcode[-1]\n",
    "    apt = row[1] if len(row) == 3 else ''\n",
    "    row = [street, apt, city, state + ' ' + zipcode] if apt else [street, city, state + ' ' + zipcode]\n",
    "    row = ', '.join(row)\n",
    "    row = ' '.join([x.capitalize()[:1] + x[1:] for x in row.split()])\n",
    "\n",
    "    return row\n",
    "\n",
    "address['text'] = address['text'].apply(reformat)\n",
    "address"
   ]
  },
  {
   "cell_type": "code",
   "execution_count": 30,
   "metadata": {},
   "outputs": [
    {
     "data": {
      "text/html": [
       "<div>\n",
       "<style scoped>\n",
       "    .dataframe tbody tr th:only-of-type {\n",
       "        vertical-align: middle;\n",
       "    }\n",
       "\n",
       "    .dataframe tbody tr th {\n",
       "        vertical-align: top;\n",
       "    }\n",
       "\n",
       "    .dataframe thead th {\n",
       "        text-align: right;\n",
       "    }\n",
       "</style>\n",
       "<table border=\"1\" class=\"dataframe\">\n",
       "  <thead>\n",
       "    <tr style=\"text-align: right;\">\n",
       "      <th></th>\n",
       "      <th>text</th>\n",
       "    </tr>\n",
       "  </thead>\n",
       "  <tbody>\n",
       "    <tr>\n",
       "      <th>0</th>\n",
       "      <td>123 Main St., Apt 121, Champaign, IL 61820-4319</td>\n",
       "    </tr>\n",
       "    <tr>\n",
       "      <th>1</th>\n",
       "      <td>15 23Rd St, Urbana, IL 60181</td>\n",
       "    </tr>\n",
       "    <tr>\n",
       "      <th>3</th>\n",
       "      <td>320 Vanderbilt Way, Santa Clara, CA 95050</td>\n",
       "    </tr>\n",
       "    <tr>\n",
       "      <th>4</th>\n",
       "      <td>109 S. Forest Rd., Columbus, OH 43210-2943</td>\n",
       "    </tr>\n",
       "  </tbody>\n",
       "</table>\n",
       "</div>"
      ],
      "text/plain": [
       "                                              text\n",
       "0  123 Main St., Apt 121, Champaign, IL 61820-4319\n",
       "1                     15 23Rd St, Urbana, IL 60181\n",
       "3        320 Vanderbilt Way, Santa Clara, CA 95050\n",
       "4       109 S. Forest Rd., Columbus, OH 43210-2943"
      ]
     },
     "execution_count": 30,
     "metadata": {},
     "output_type": "execute_result"
    }
   ],
   "source": [
    "import pandas as pd \n",
    "import re\n",
    "address = pd.read_table('address.csv', names = ['text'], lineterminator = '\\\\')\n",
    "pattern = '^[\\n]?([\\d ]+[A-Z\\s.]+)\\n([\\w ]+[\\n])?([A-Z\\s]+)[,\\s]+([A-Z]+)[,\\s]+([-\\d]+)$'\n",
    "separate = address.text.str.extract(pattern, flags=re.IGNORECASE).dropna(how='all').astype(str)\n",
    "separate = separate.applymap(lambda row: row.title())\n",
    "separate[3] = separate[3].apply(lambda row: row.upper())\n",
    "separate[3] = separate[[3, 4]].agg(' '.join, axis = 1)\n",
    "separate = separate.drop([4], axis = 1)\n",
    "address['text'] = separate.agg(', '.join, axis = 1)\n",
    "address.dropna(inplace = True)\n",
    "\n",
    "def reformat(row):\n",
    "    row = row.replace('\\n', '').replace('Nan, ', '')\n",
    "    return row\n",
    "\n",
    "address['text'] = address['text'].apply(reformat)\n",
    "address"
   ]
  },
  {
   "cell_type": "markdown",
   "metadata": {},
   "source": [
    "## 8.5\n"
   ]
  },
  {
   "cell_type": "code",
   "execution_count": null,
   "metadata": {},
   "outputs": [],
   "source": [
    "import pandas as pd\n",
    "ramen = pd.read_csv('ramen-ratings.csv', na_values = {'Stars': ['Unrated']})\n",
    "ramen.drop('Review #', axis = 1, inplace = True)\n",
    "ramen.loc[ramen.Country == 'United States', 'Country'] = 'USA'\n",
    "\n",
    "pattern = '2016\\s#(\\d+)'\n",
    "ramen['sort'] = ramen['Top Ten'].str.extract(pattern)\n",
    "rank_2016 = ramen.loc[ramen.sort.notna()]\n",
    "rank_2016 = rank_2016.astype({'sort': int}).sort_values(by = 'sort')\n",
    "rank_2016.drop('sort', axis = 1, inplace = True)\n"
   ]
  }
 ],
 "metadata": {
  "kernelspec": {
   "display_name": "Python 3",
   "language": "python",
   "name": "python3"
  },
  "language_info": {
   "codemirror_mode": {
    "name": "ipython",
    "version": 3
   },
   "file_extension": ".py",
   "mimetype": "text/x-python",
   "name": "python",
   "nbconvert_exporter": "python",
   "pygments_lexer": "ipython3",
   "version": "3.6.8"
  }
 },
 "nbformat": 4,
 "nbformat_minor": 2
}
