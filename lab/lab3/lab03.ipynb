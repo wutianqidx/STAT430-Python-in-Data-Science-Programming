{
 "cells": [
  {
   "cell_type": "markdown",
   "metadata": {},
   "source": [
    "# Lab 03: Tuple, List & Dictionary"
   ]
  },
  {
   "cell_type": "markdown",
   "metadata": {},
   "source": [
    "## Exercise 1\n",
    "\n",
    "You are given a list of tuples called `two_nums`. Each tuple contains 2 numbers. Find and print the tuple with the largest difference between the 2 elements!"
   ]
  },
  {
   "cell_type": "code",
   "execution_count": 1,
   "metadata": {},
   "outputs": [
    {
     "data": {
      "text/plain": [
       "[(9, 77),\n",
       " (35, 8),\n",
       " (93, 99),\n",
       " (89, 49),\n",
       " (11, 61),\n",
       " (43, 88),\n",
       " (97, 22),\n",
       " (95, 82),\n",
       " (2, 29),\n",
       " (58, 89)]"
      ]
     },
     "execution_count": 1,
     "metadata": {},
     "output_type": "execute_result"
    }
   ],
   "source": [
    "# use this to test your code\n",
    "import random\n",
    "\n",
    "two_nums = [(random.randint(1, 100), random.randint(1, 100)) for k in range(10)]\n",
    "two_nums"
   ]
  },
  {
   "cell_type": "code",
   "execution_count": 2,
   "metadata": {},
   "outputs": [
    {
     "name": "stdout",
     "output_type": "stream",
     "text": [
      "(97, 22)\n"
     ]
    }
   ],
   "source": [
    "# add your code here\n",
    "diff = []\n",
    "for x,y in two_nums:\n",
    "    diff.append(abs(x-y))\n",
    "\n",
    "max_diff = max(diff)\n",
    "for t in two_nums:\n",
    "    if (abs(t[0]-t[1])) == max_diff:\n",
    "        print(t)"
   ]
  },
  {
   "cell_type": "markdown",
   "metadata": {},
   "source": [
    "## Exercise 2\n",
    "\n",
    "Two numbers are called relatively primes if their only common divisor is 1. You are given a list of tuples called `a_list`. Each typle contains 2 numbers. Find all the tuples that are relatively primes and store them in a list called `relative_primes`."
   ]
  },
  {
   "cell_type": "code",
   "execution_count": 3,
   "metadata": {},
   "outputs": [],
   "source": [
    "# use these to test your code\n",
    "a_list = [(12, 17), (12, 18), (4, 8), (7, 81), (5, 7), (2, 2)]"
   ]
  },
  {
   "cell_type": "code",
   "execution_count": 4,
   "metadata": {},
   "outputs": [
    {
     "data": {
      "text/plain": [
       "[(12, 17), (7, 81), (5, 7)]"
      ]
     },
     "execution_count": 4,
     "metadata": {},
     "output_type": "execute_result"
    }
   ],
   "source": [
    "# add your code here\n",
    "def find_divisor(t):\n",
    "    a,b = t\n",
    "    divisors = []\n",
    "    smaller = min(a,b)\n",
    "    for i in range(1,smaller+1):\n",
    "        if a%i==0 and b%i==0:\n",
    "            divisors.append(i)\n",
    "    return divisors\n",
    "\n",
    "relative_primes = [t for t in a_list if find_divisor(t)==[1]]\n",
    "relative_primes"
   ]
  },
  {
   "cell_type": "markdown",
   "metadata": {},
   "source": [
    "## Exercise 3\n",
    "\n",
    "A code (in number) is written down in text and given to you as string `s`. For example, `s = 'one two two five'`. Write a program that translates the code to a number and stores it in a variable called `result`, e.g. `result = 1225`.\n",
    "\n",
    "**Yes!** You're right, we did this problem in lab02. But this time solve this problem using dictionary!"
   ]
  },
  {
   "cell_type": "code",
   "execution_count": 5,
   "metadata": {},
   "outputs": [],
   "source": [
    "# use this to test your code\n",
    "s = 'one two two five'"
   ]
  },
  {
   "cell_type": "code",
   "execution_count": 6,
   "metadata": {},
   "outputs": [
    {
     "data": {
      "text/plain": [
       "1225"
      ]
     },
     "execution_count": 6,
     "metadata": {},
     "output_type": "execute_result"
    }
   ],
   "source": [
    "# add your code here\n",
    "word2num = {'one':1, 'two':2, 'three':3, 'four':4, 'five':5,\n",
    "            'six':6, 'seven':7, 'eight':8, 'nine':9, 'zero':0}\n",
    "\n",
    "words = s.split()\n",
    "\n",
    "result = int(''.join([str(word2num[w]) for w in words]))\n",
    "result"
   ]
  },
  {
   "cell_type": "markdown",
   "metadata": {},
   "source": [
    "## Submit Your Work"
   ]
  },
  {
   "cell_type": "markdown",
   "metadata": {},
   "source": [
    "You're almost done -- congratulations!\n",
    "\n",
    "You need to do a few more things:\n",
    "\n",
    "1. Save your work.  To do this, create a **notebook checkpoint** by using the menu within the notebook to go **File -> Save and Checkpoint**\n",
    "\n",
    "2. Click **File** -> **Close and Halt** to close this notebook.\n",
    "\n",
    "3. Click **Logout** on Jupyter to return your terminal back to the command prompt.\n",
    "\n",
    "4. Follow the assignment instructions to submit this assignment."
   ]
  },
  {
   "cell_type": "markdown",
   "metadata": {},
   "source": [
    "*(This lab was adapted from Wade Fagen-Ulmschneider & Karle Flanagan’s STAT 107 lab_intro with permission.)*"
   ]
  }
 ],
 "metadata": {
  "kernelspec": {
   "display_name": "Python 3",
   "language": "python",
   "name": "python3"
  },
  "language_info": {
   "codemirror_mode": {
    "name": "ipython",
    "version": 3
   },
   "file_extension": ".py",
   "mimetype": "text/x-python",
   "name": "python",
   "nbconvert_exporter": "python",
   "pygments_lexer": "ipython3",
   "version": "3.8.5"
  }
 },
 "nbformat": 4,
 "nbformat_minor": 2
}
