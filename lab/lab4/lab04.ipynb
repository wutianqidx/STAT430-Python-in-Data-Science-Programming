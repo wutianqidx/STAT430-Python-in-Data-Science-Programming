{
 "cells": [
  {
   "cell_type": "markdown",
   "metadata": {},
   "source": [
    "# Lab 04: Functions, Error Handling & NumPy Array"
   ]
  },
  {
   "cell_type": "markdown",
   "metadata": {},
   "source": [
    "## Exercise 1\n",
    "\n",
    "Let s be a string that contains a simple mathematical expression, e.g.,\n",
    "\n",
    "`s = '1.5 + 2.1'`\n",
    "\n",
    "`s = '10.0-1.6'`\n",
    "\n",
    "`s = '3.1*5.8'`\n",
    "\n",
    "`s = '4.7 /7.2'`\n",
    "\n",
    "The expression will only have 2 operands and the operator will be one of the following: +, -, * and /.\n",
    "\n",
    "Write a **function** that interprets the expression, then evaluates it and returns the result. If the input string **s does not follow the format above**, simply return the **input object**.\n",
    "\n",
    "Your code will tested with test cases including but not limited to:\n",
    "\n",
    "- `s = '1.5 + 2.1'`, expected output: `3.6`\n",
    "- `s = '2 * 4'`, expected output: `8`\n",
    "- `s = '2 ** 4'`, expected output: `'2 ** 4'`\n",
    "- `s = '10 + 10 + 10'`, expected output: `'10 + 10 + 10'`\n",
    "- `s = '3.3 2'`, expected output: `'3.3 2'`\n",
    "- `s = (1, 2)`, expected output: `(1, 2)`\n",
    "- `s = [1, 2, 3]`, expected output: `[1, 2, 3]`"
   ]
  },
  {
   "cell_type": "code",
   "execution_count": 1,
   "metadata": {},
   "outputs": [],
   "source": [
    "# add your code here\n",
    "def evaluate(s):\n",
    "    result = s\n",
    "    if type(s) == str and sum(map(s.count,['+','-','*','/'])) == 1:\n",
    "        s = s.replace(' ','')\n",
    "        if '+' in s:\n",
    "            operator_pos = s.find('+')\n",
    "            result = float(s[:operator_pos]) + float(s[operator_pos+1:])\n",
    "        elif '-' in s:\n",
    "            operator_pos = s.find('-')\n",
    "            result = float(s[:operator_pos]) - float(s[operator_pos+1:])\n",
    "        elif '*' in s:\n",
    "            operator_pos = s.find('*')\n",
    "            result = float(s[:operator_pos]) * float(s[operator_pos+1:])\n",
    "        else:\n",
    "            operator_pos = s.find('/')\n",
    "            result = float(s[:operator_pos]) / float(s[operator_pos+1:])\n",
    "            \n",
    "    return(result)"
   ]
  },
  {
   "cell_type": "code",
   "execution_count": 2,
   "metadata": {},
   "outputs": [],
   "source": [
    "print(evaluate('1.5 + 2.1'),'|',evaluate('2 * 4'),'|',evaluate('2 ** 4'),'|',\n",
    "      evaluate('10 + 10 + 10'),'|',evaluate('3.3 2'),'|',evaluate((1, 2)),'|', evaluate([1, 2, 3]))"
   ]
  },
  {
   "cell_type": "markdown",
   "metadata": {},
   "source": [
    "## Exercise 2\n",
    "\n",
    "You are given the following code segment:"
   ]
  },
  {
   "cell_type": "code",
   "execution_count": 3,
   "metadata": {},
   "outputs": [],
   "source": [
    "a_list = [ x for x in range(20)]\n",
    "new_list = []\n",
    "for i in a_list:\n",
    "    if i % 3 == 0:\n",
    "        new_list.append(100)\n",
    "    else:\n",
    "        new_list.append(0)\n",
    "a_list = new_list\n",
    "a_list"
   ]
  },
  {
   "cell_type": "markdown",
   "metadata": {},
   "source": [
    "Write the equivalent code using NumPy Array! Note that your code should include **no loops**!\n",
    "\n",
    "Your answer will receive a grade of 0 if any type of loop is used!"
   ]
  },
  {
   "cell_type": "code",
   "execution_count": 4,
   "metadata": {},
   "outputs": [
    {
     "data": {
      "text/plain": [
       "[100, 0, 0, 100, 0, 0, 100, 0, 0, 100, 0, 0, 100, 0, 0, 100, 0, 0, 100, 0]"
      ]
     },
     "execution_count": 4,
     "metadata": {},
     "output_type": "execute_result"
    }
   ],
   "source": [
    "# your code here\n",
    "import numpy as np\n",
    "a_array = np.arange(0,20)\n",
    "a_array[a_array%3==0] = 100\n",
    "a_array[a_array!=100] = 0 \n",
    "list(a_array)"
   ]
  },
  {
   "cell_type": "markdown",
   "metadata": {},
   "source": [
    "## Submit Your Work"
   ]
  },
  {
   "cell_type": "markdown",
   "metadata": {},
   "source": [
    "You're almost done -- congratulations!\n",
    "\n",
    "You need to do a few more things:\n",
    "\n",
    "1. Save your work.  To do this, create a **notebook checkpoint** by using the menu within the notebook to go **File -> Save and Checkpoint**\n",
    "\n",
    "2. Click **File** -> **Close and Halt** to close this notebook.\n",
    "\n",
    "3. Click **Logout** on Jupyter to return your terminal back to the command prompt.\n",
    "\n",
    "4. Follow the assignment instructions to submit this assignment."
   ]
  }
 ],
 "metadata": {
  "kernelspec": {
   "display_name": "Python 3",
   "language": "python",
   "name": "python3"
  },
  "language_info": {
   "codemirror_mode": {
    "name": "ipython",
    "version": 3
   },
   "file_extension": ".py",
   "mimetype": "text/x-python",
   "name": "python",
   "nbconvert_exporter": "python",
   "pygments_lexer": "ipython3",
   "version": "3.8.5"
  }
 },
 "nbformat": 4,
 "nbformat_minor": 2
}
