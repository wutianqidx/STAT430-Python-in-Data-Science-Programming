{
 "cells": [
  {
   "cell_type": "markdown",
   "metadata": {},
   "source": [
    "#### Name: Tianqi Wu\n",
    "\n",
    "#### NetID: twu38\n",
    "\n",
    "# Welcome to a Jupyter Notebook!\n",
    "\n",
    "You are in your very first Jupyter Notebook!  Notebooks allow us to combine text (like you're reading now) with Python code.  You will complete a lab notebook like this for all of the labs.\n",
    "\n",
    "Let's get started!\n",
    "\n",
    "## Lab: Intro to Jupyter Notebook\n",
    "\n",
    "In this lab, you will:\n",
    "\n",
    "- Explore how to navigate and use Jupyter notebooks (this tool you're looking at!)\n",
    "- Write a few basic Python commands\n",
    "- Learn how to turn in assignments using git"
   ]
  },
  {
   "cell_type": "markdown",
   "metadata": {},
   "source": [
    "# 1. Jupyter Notebooks\n",
    "\n",
    "\n",
    "## 1.1. Types of Cells\n",
    "\n",
    "Jupyter notebooks are organized into rectangular **cells**.  Every **cell** will either be one of either:\n",
    "\n",
    "1. A **Markdown cell**, which contains text instructions (like the cell you are reading now).  **Markdown cells** will have formatted text and will have a white background.\n",
    "2. A **Python cell**, which contains Python code.  **Python cells** (which you will see shortly) will have a gray background and colored text.\n",
    "\n",
    "By default, a Python cell is created when you asks Jupyter Notebook to create a new cell."
   ]
  },
  {
   "cell_type": "markdown",
   "metadata": {},
   "source": [
    "## 1.3. Command Mode & Edit Mode\n",
    "\n",
    "There are 2 modes when you're using a Jupyter Notebook:\n",
    "- **Command mode**: the default mode when you first opens a notebook. When single click on a cell, the cell is highlighted with blue border.\n",
    "- **Editting mode**: to edit the content of a cell, you need to switch to editting mode by double clicking on a cell. When you're in editting mode, the cell is highlighted with green border.\n",
    "\n",
    "To exit the editting mode, press **ESC**.\n",
    "To enter the editting mode from the command mode, press **ENTER**."
   ]
  },
  {
   "cell_type": "markdown",
   "metadata": {},
   "source": [
    "## 1.2. Editing Cells\n",
    "\n",
    "Every cell can be edited by **double clicking on the cell**.\n",
    "\n",
    "- Go back to the top of the page and add YOUR NAME AND YOUR NETID to the top cell.\n",
    "\n",
    "Once you are finishing editing:\n",
    "\n",
    "- Press **CTRL + ENTER** to exit editing and \"run\" the cell.\n",
    "- Press **SHIFT + ENTER** to exit editing, \"run\" the cell, AND advance to the next cell.\n",
    "- (You can also press \\[▶| Run\\] at the top of the notebook to exit editing (same as SHIFT+ENTER))\n",
    "\n",
    "\"Running\" a Markdown cell will save it and make it part of your notebook.\n"
   ]
  },
  {
   "cell_type": "markdown",
   "metadata": {},
   "source": [
    "## 1.3. Changing Cell Type\n",
    "\n",
    "Sometimes, you want to change a Python cell to a Markdown cell or vice versa. Here are the steps:\n",
    "- Switch the cell to the command mode (see instructions above).\n",
    "- Press **M** to change the cell to a Markdown cell.\n",
    "- Press **Y** to change the cell to a Python cell."
   ]
  },
  {
   "cell_type": "markdown",
   "metadata": {},
   "source": [
    "## 1.4. Create a New Cell\n",
    "\n",
    "To create a new cell in Jupyter:\n",
    "- Switch the current cell to the command mode (see instructions above).\n",
    "- Press **A** to create a cell ABOVE the current cell.\n",
    "- Press **B** to create a cell BELOW the current cell.\n",
    "\n",
    "### Exercise 1.1\n",
    "\n",
    "Create a cell below this cell, change it to Markdown cell, then write your declared major in it."
   ]
  },
  {
   "cell_type": "markdown",
   "metadata": {},
   "source": [
    "Declared major: Statistics "
   ]
  },
  {
   "cell_type": "markdown",
   "metadata": {},
   "source": [
    "### 1.5 Delete a Cell\n",
    "\n",
    "To delete a cell:\n",
    "- Switch the cell to the command mode (see instructions above).\n",
    "- Press **D** twice continously."
   ]
  },
  {
   "cell_type": "markdown",
   "metadata": {},
   "source": [
    "### Exercise 1.2\n",
    "\n",
    "Delete the following cell:"
   ]
  },
  {
   "cell_type": "markdown",
   "metadata": {},
   "source": [
    "# 2. Markdown Cells\n",
    "\n",
    "[Markdown](https://en.wikipedia.org/wiki/Markdown) is a lightweight markup language with plain-text-formatting syntax. In simple words, it's a way to format raw text to rich text (fancier text like **bold** or *italic*)."
   ]
  },
  {
   "cell_type": "markdown",
   "metadata": {},
   "source": [
    "### Exercise 2.1:\n",
    "\n",
    "Double click on the cell above to find out how to write **bold** and *italic* text in Markdown. Then write your full name in the cell below with first name in **bold** and last name in *italic*."
   ]
  },
  {
   "cell_type": "markdown",
   "metadata": {},
   "source": [
    "**Tianqi** *Wu*"
   ]
  },
  {
   "cell_type": "markdown",
   "metadata": {},
   "source": []
  },
  {
   "cell_type": "markdown",
   "metadata": {},
   "source": [
    "### Exercise 2.2:\n",
    "You might also notice that a hyperlink was attached to the word **Markdown** in the cell above. Review the syntax of the hyperlink, then attach our course website link to the following word: [STAT 107](https://stat430.hknguyen.org/)."
   ]
  },
  {
   "cell_type": "markdown",
   "metadata": {},
   "source": [
    "- To write mathematics formula in Markdown, we use the dollar sign `$` at the start and the end of the expression. For example, to write $5^2$, we write `$5^2$`.\n",
    "- The syntax we use inside the `$` signs is called [LaTex](https://en.wikibooks.org/wiki/LaTeX). If you consider to go further in Mathematics or Statistics, fluent LaTex will be very helpful."
   ]
  },
  {
   "cell_type": "markdown",
   "metadata": {},
   "source": [
    "### Exercise 2.3\n",
    "\n",
    "Take a look at $\\alpha_1^2 = 0.5$! Then write the following expression in LaTex syntax, beta raised to the power of 3:  $\\beta^3$"
   ]
  },
  {
   "cell_type": "markdown",
   "metadata": {},
   "source": [
    "# 3. Python Cells\n",
    "\n",
    "Python cells are cells that contain Python code -- the programming language we will use for Data Science Discovery.  When you \"run\" a Python cell, you will run your snippet of code!\n",
    "\n",
    "Python is a programming language that was designed to be easy and simple to use, and notebooks make it even easier to use.  The most basic operations that a computer can do are simple math.\n",
    "\n",
    "The next cell is your first Python cell, where we already asked the computer to compute `5 + 4`:"
   ]
  },
  {
   "cell_type": "code",
   "execution_count": 1,
   "metadata": {},
   "outputs": [
    {
     "data": {
      "text/plain": [
       "9"
      ]
     },
     "execution_count": 1,
     "metadata": {},
     "output_type": "execute_result"
    }
   ],
   "source": [
    "# addition in Python\n",
    "5 + 4"
   ]
  },
  {
   "cell_type": "markdown",
   "metadata": {},
   "source": [
    "Notice above that there are two components to a single Python cell:\n",
    "\n",
    "- **In \\[#\\]:**, which shows the Python code you wrote (ex: `5 + 4` above)\n",
    "- **Out \\[#\\]:**, which shows the output from the Python (ex: `9` above, the answer)\n",
    "\n",
    "Also note that `#` is used to start a comment in Python. A comment is text that is not executed by Python. In Markdown, however, `#` is used to denote a heading! `##` means a level 2 heading.\n",
    "\n",
    "Let's have you try it! :)"
   ]
  },
  {
   "cell_type": "markdown",
   "metadata": {},
   "source": [
    "### Exercise 3.1:\n",
    "\n",
    "In the next cell, use Python to compute the sum of `3` and `8`.\n",
    "\n",
    "- Remember to double click to edit the cell.\n",
    "- Also remember that you can use **SHIFT + ENTER** to exit and run the cell."
   ]
  },
  {
   "cell_type": "code",
   "execution_count": 2,
   "metadata": {},
   "outputs": [
    {
     "data": {
      "text/plain": [
       "11"
      ]
     },
     "execution_count": 2,
     "metadata": {},
     "output_type": "execute_result"
    }
   ],
   "source": [
    "3+8"
   ]
  },
  {
   "cell_type": "markdown",
   "metadata": {},
   "source": [
    "### Exercise 3.2:\n",
    "\n",
    "In the next cell, use Python to compute the product of the numbers `7` and `5`.\n",
    "- Hint: In Python, the `*` symbol used for multiplication."
   ]
  },
  {
   "cell_type": "code",
   "execution_count": 3,
   "metadata": {},
   "outputs": [
    {
     "data": {
      "text/plain": [
       "35"
      ]
     },
     "execution_count": 3,
     "metadata": {},
     "output_type": "execute_result"
    }
   ],
   "source": [
    "7*5"
   ]
  },
  {
   "cell_type": "markdown",
   "metadata": {},
   "source": [
    "### Exercise 3.3:\n",
    "\n",
    "In addition to addition (`+`), subtraction (`-`), multiplication (`*`), and division (`/`), Python can also raise a number to a power (ex: $2^4$).  The syntax to do this in Python is to use `**`.\n",
    "\n",
    "In the next cell, use Python to compute $2^4$:"
   ]
  },
  {
   "cell_type": "code",
   "execution_count": 4,
   "metadata": {},
   "outputs": [
    {
     "data": {
      "text/plain": [
       "16"
      ]
     },
     "execution_count": 4,
     "metadata": {},
     "output_type": "execute_result"
    }
   ],
   "source": [
    "2**4"
   ]
  },
  {
   "cell_type": "markdown",
   "metadata": {},
   "source": [
    "Using everything you know, use the following cell to compute the value of $(3 + 5) * 9^2$"
   ]
  },
  {
   "cell_type": "code",
   "execution_count": 5,
   "metadata": {},
   "outputs": [
    {
     "data": {
      "text/plain": [
       "648"
      ]
     },
     "execution_count": 5,
     "metadata": {},
     "output_type": "execute_result"
    }
   ],
   "source": [
    "(3+5)*9**2"
   ]
  },
  {
   "cell_type": "markdown",
   "metadata": {},
   "source": [
    "# 4. Print Statements in Python\n",
    "\n",
    "In all of the previous puzzles, the text in the **Out\\[#\\]** was the result of your Python code.  In a notebook, the notebook will always **automatically print out the result of the last line of Python code**.\n",
    "\n",
    "Because ONLY the last line is automatically printed, what do you expect to happen when the following code is run?"
   ]
  },
  {
   "cell_type": "code",
   "execution_count": 6,
   "metadata": {},
   "outputs": [
    {
     "data": {
      "text/plain": [
       "6"
      ]
     },
     "execution_count": 6,
     "metadata": {},
     "output_type": "execute_result"
    }
   ],
   "source": [
    "1 + 1\n",
    "2 + 2\n",
    "3 + 3"
   ]
  },
  {
   "cell_type": "markdown",
   "metadata": {},
   "source": [
    "...run the cell and find out!"
   ]
  },
  {
   "cell_type": "markdown",
   "metadata": {},
   "source": [
    "## Using the print() function\n",
    "\n",
    "If you want to print out things that is NOT the result of the last line, Python has a **function** called `print(...)` that will output everything between `(` and `)`.  For example, the same example with `print()`:"
   ]
  },
  {
   "cell_type": "code",
   "execution_count": 7,
   "metadata": {},
   "outputs": [
    {
     "name": "stdout",
     "output_type": "stream",
     "text": [
      "2\n",
      "4\n",
      "6\n"
     ]
    }
   ],
   "source": [
    "print( 1 + 1 )\n",
    "print( 2 + 2 )\n",
    "print( 3 + 3 )"
   ]
  },
  {
   "cell_type": "markdown",
   "metadata": {},
   "source": [
    "### Using Strings\n",
    "\n",
    "In Python, we often want to print out more than just numbers.  If you want to print words out, Python requires that **strings** are in quotes.  One of the most simple programs is a program that prints `\"Hello World\"` (notice the quotes)!\n",
    "\n",
    "The following `print()` command does exactly that:"
   ]
  },
  {
   "cell_type": "code",
   "execution_count": 8,
   "metadata": {},
   "outputs": [
    {
     "name": "stdout",
     "output_type": "stream",
     "text": [
      "Hello World\n"
     ]
    }
   ],
   "source": [
    "print(\"Hello World\")"
   ]
  },
  {
   "cell_type": "markdown",
   "metadata": {},
   "source": [
    "Notice that the quotes **do not appear in the output**.  Instead, Python uses the quotes to know that the contents inside of the quotes are a  **string**.\n",
    "\n",
    "If you forget to add the quotes, Python will provide an error message:"
   ]
  },
  {
   "cell_type": "code",
   "execution_count": 9,
   "metadata": {},
   "outputs": [
    {
     "ename": "SyntaxError",
     "evalue": "invalid syntax (<ipython-input-9-10cb182148e3>, line 1)",
     "output_type": "error",
     "traceback": [
      "\u001b[0;36m  File \u001b[0;32m\"<ipython-input-9-10cb182148e3>\"\u001b[0;36m, line \u001b[0;32m1\u001b[0m\n\u001b[0;31m    print(Hello World)\u001b[0m\n\u001b[0m                ^\u001b[0m\n\u001b[0;31mSyntaxError\u001b[0m\u001b[0;31m:\u001b[0m invalid syntax\n"
     ]
    }
   ],
   "source": [
    "print(Hello World)"
   ]
  },
  {
   "cell_type": "markdown",
   "metadata": {},
   "source": [
    "Errors are what makes programming difficult and **EVERYONE** makes errors programming.  Errors happen when Python does not understand the code you typed.  Python will do it's best to give you useful information in the error message, but the messages are often generic or confusing."
   ]
  },
  {
   "cell_type": "markdown",
   "metadata": {},
   "source": [
    "#### Emojis Work, Too!\n",
    "\n",
    "Anything that is not a number goes into a quotes and we will refer to these as **strings**.  This even includes emojis:"
   ]
  },
  {
   "cell_type": "code",
   "execution_count": 10,
   "metadata": {},
   "outputs": [
    {
     "name": "stdout",
     "output_type": "stream",
     "text": [
      "🎉\n"
     ]
    }
   ],
   "source": [
    "print(\"🎉\")"
   ]
  },
  {
   "cell_type": "markdown",
   "metadata": {},
   "source": [
    "### Exercise 4.1:\n",
    "\n",
    "Using the `print()` function, print your name in the output of the next cell:"
   ]
  },
  {
   "cell_type": "code",
   "execution_count": 11,
   "metadata": {},
   "outputs": [
    {
     "name": "stdout",
     "output_type": "stream",
     "text": [
      "Tianqi Wu\n"
     ]
    }
   ],
   "source": [
    "print('Tianqi Wu')"
   ]
  },
  {
   "cell_type": "markdown",
   "metadata": {},
   "source": [
    "### Exercise 4.2:\n",
    "\n",
    "Using the `print()` function, print the **result** of the following three things on separate lines:\n",
    "- $(4 * 3)^2$\n",
    "- Python for Data Science Programming\n",
    "- $8 - 3$"
   ]
  },
  {
   "cell_type": "code",
   "execution_count": 12,
   "metadata": {},
   "outputs": [
    {
     "name": "stdout",
     "output_type": "stream",
     "text": [
      "144\n",
      "Python for Data Science Programming\n",
      "5\n"
     ]
    }
   ],
   "source": [
    "print((4*3)**2)\n",
    "print('Python for Data Science Programming')\n",
    "print(8-3)"
   ]
  },
  {
   "cell_type": "markdown",
   "metadata": {},
   "source": [
    "## Submit Your Work"
   ]
  },
  {
   "cell_type": "markdown",
   "metadata": {},
   "source": [
    "You're almost done -- congratulations!\n",
    "\n",
    "You need to do a few more things:\n",
    "\n",
    "1. Save your work.  To do this, create a **notebook checkpoint** by using the menu within the notebook to go **File -> Save and Checkpoint**\n",
    "\n",
    "2. Click **File** -> **Close and Halt** to close this notebook.\n",
    "\n",
    "3. Click **Logout** on Jupyter to return your terminal back to the command prompt.\n",
    "\n",
    "4. Follow the assignment instructions to submit this assignment."
   ]
  },
  {
   "cell_type": "markdown",
   "metadata": {},
   "source": [
    "*(This lab was adapted from Wade Fagen-Ulmschneider & Karle Flanagan’s STAT 107 lab_intro with permission.)*"
   ]
  }
 ],
 "metadata": {
  "kernelspec": {
   "display_name": "Python 3",
   "language": "python",
   "name": "python3"
  },
  "language_info": {
   "codemirror_mode": {
    "name": "ipython",
    "version": 3
   },
   "file_extension": ".py",
   "mimetype": "text/x-python",
   "name": "python",
   "nbconvert_exporter": "python",
   "pygments_lexer": "ipython3",
   "version": "3.8.5"
  }
 },
 "nbformat": 4,
 "nbformat_minor": 2
}
